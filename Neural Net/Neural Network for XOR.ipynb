{
 "cells": [
  {
   "cell_type": "code",
   "execution_count": 15,
   "metadata": {
    "collapsed": false,
    "deletable": true,
    "editable": true
   },
   "outputs": [
    {
     "name": "stdout",
     "output_type": "stream",
     "text": [
      "Error : 0.496410031903\n",
      "Error : 0.00858452565325\n",
      "Error : 0.00578945986251\n",
      "Error : 0.00462917677677\n",
      "Error : 0.00395876528027\n",
      "Error : 0.00351012256786\n",
      "\n",
      "Output after Trainnig : \n",
      "[[ 0.00260572]\n",
      " [ 0.99672209]\n",
      " [ 0.99701711]\n",
      " [ 0.00386759]]\n"
     ]
    }
   ],
   "source": [
    "# The program creates an neural network that simulates the exclusive OR\n",
    "# function with two inputs and one output.\n",
    "\n",
    "import numpy as np\n",
    "\n",
    "def nonlin(x,deriv = False):\n",
    "\tif(deriv == True):\n",
    "\t\treturn (x*(1-x))\n",
    "\n",
    "\treturn 1/(1+np.exp(-x))\n",
    "\n",
    "# input data set\n",
    "X = np.array([[0,0,1],\n",
    "\t\t\t[0,1,1],\n",
    "\t\t\t[1,0,1],\n",
    "\t\t\t[1,1,1]])\n",
    "\n",
    "# output data set\n",
    "y = np.array([[0] , [1] , [1] , [0]])\n",
    "\n",
    "np.random.seed(1)\n",
    "\n",
    "# Synapses\n",
    "Synapses0 = 2*np.random.random((3,4)) - 1\n",
    "Synapses1 = 2*np.random.random((4,1)) - 1\n",
    "\n",
    "# Training\n",
    "for j in range(60000):\n",
    "\tl0 = X\n",
    "\tl1 = nonlin(np.dot(l0 , Synapses0))\n",
    "\tl2 = nonlin(np.dot(l1 , Synapses1))\n",
    "\n",
    "\tl2_error = y - l2\n",
    "\n",
    "\tif(j % 10000) == 0:\n",
    "\t\t# Getting mean value of the absolute error\n",
    "\t\tprint(\"Error : \" + str(np.mean(np.abs(l2_error))))\n",
    "\n",
    "\tl2_delta = l2_error * nonlin(l2 , deriv = True)\n",
    "\n",
    "\tl1_error = l2_delta.dot(Synapses1.T)\n",
    "\n",
    "\tl1_delta = l1_error * nonlin(l1 , deriv = True)\n",
    "\n",
    "\tSynapses1 += l1.T.dot(l2_delta)\n",
    "\tSynapses0 += l0.T.dot(l1_delta)\n",
    "\n",
    "print(\"\\nOutput after Trainnig : \")\n",
    "print(l2)"
   ]
  },
  {
   "cell_type": "code",
   "execution_count": null,
   "metadata": {
    "collapsed": true,
    "deletable": true,
    "editable": true
   },
   "outputs": [],
   "source": []
  }
 ],
 "metadata": {
  "kernelspec": {
   "display_name": "Python 3",
   "language": "python",
   "name": "python3"
  },
  "language_info": {
   "codemirror_mode": {
    "name": "ipython",
    "version": 3
   },
   "file_extension": ".py",
   "mimetype": "text/x-python",
   "name": "python",
   "nbconvert_exporter": "python",
   "pygments_lexer": "ipython3",
   "version": "3.5.2"
  }
 },
 "nbformat": 4,
 "nbformat_minor": 2
}
